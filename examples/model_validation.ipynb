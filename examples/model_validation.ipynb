{
 "cells": [
  {
   "cell_type": "code",
   "execution_count": 1,
   "metadata": {},
   "outputs": [
    {
     "name": "stderr",
     "output_type": "stream",
     "text": [
      "/home/elijahc/.pyenv/versions/3.5.2/envs/jupyterlab/lib/python3.5/site-packages/h5py/__init__.py:36: FutureWarning: Conversion of the second argument of issubdtype from `float` to `np.floating` is deprecated. In future, it will be treated as `np.float64 == np.dtype(float).type`.\n",
      "  from ._conv import register_converters as _register_converters\n",
      "Using TensorFlow backend.\n"
     ]
    }
   ],
   "source": [
    "import os\n",
    "import numpy as np\n",
    "import pandas as pd\n",
    "import scipy.io as sio\n",
    "import scipy.spatial.distance as distance\n",
    "import matplotlib.pyplot as plt\n",
    "from tqdm import tqdm as tqdm\n",
    "%matplotlib inline\n",
    "import seaborn as sns\n",
    "from keras.models import Model, Sequential\n",
    "from keras.layers import Input, Dense\n",
    "from keras.utils import to_categorical\n",
    "import keras.regularizers as regularizers\n",
    "from sklearn.preprocessing import StandardScaler, OneHotEncoder\n",
    "\n",
    "from utils import *"
   ]
  },
  {
   "cell_type": "code",
   "execution_count": 2,
   "metadata": {},
   "outputs": [],
   "source": [
    "dat = load_preprocessed(simple=True,merge_keys=['stages','pows'])\n",
    "all_data = load_preprocessed(simple=True)\n",
    "scaler = StandardScaler()\n",
    "oh_encoder = OneHotEncoder()\n",
    "scaled_X = scaler.fit_transform(dat['pows'])\n",
    "labels = dat['stages_simple']\n",
    "trans_dat = scaled_X\n",
    "oh_Y = oh_encoder.fit_transform(labels.reshape(-1,1)).toarray()\n",
    "ex_weight = get_inverse_freq_weights(dat['stages_simple'],sqrt=True)"
   ]
  },
  {
   "cell_type": "code",
   "execution_count": 3,
   "metadata": {},
   "outputs": [
    {
     "data": {
      "text/plain": [
       "(7534,)"
      ]
     },
     "execution_count": 3,
     "metadata": {},
     "output_type": "execute_result"
    }
   ],
   "source": [
    "groups = [ [i]*len(d['pows']) for i,d in zip(np.arange(len(all_data)),all_data) ]\n",
    "groups = np.concatenate(groups,axis=0)\n",
    "groups.shape"
   ]
  },
  {
   "cell_type": "code",
   "execution_count": 4,
   "metadata": {},
   "outputs": [],
   "source": [
    "def get_partition(total, test_frac=0.2, return_bool_mask=False):\n",
    "    num_total = total\n",
    "    num_samples = int(test_frac*num_total)\n",
    "    sample_frac = np.random.choice(num_total,num_samples,replace=False)\n",
    "    bool_frac = np.bincount(sample_frac,minlength=num_total).astype(np.bool)\n",
    "    if return_bool_mask:\n",
    "        return (~bool_frac,bool_frac)\n",
    "    else:\n",
    "        return (np.arange(num_total)[bool_frac],np.arange(num_total)[~bool_frac])"
   ]
  },
  {
   "cell_type": "code",
   "execution_count": 5,
   "metadata": {},
   "outputs": [],
   "source": [
    "pt_masks = [groups==i for i in np.arange(9)]\n",
    "pt_samples = [oh_Y[m].shape[0] for m in pt_masks]"
   ]
  },
  {
   "cell_type": "markdown",
   "metadata": {},
   "source": [
    "## Sample 80/20 splits across all patients and combine them all together"
   ]
  },
  {
   "cell_type": "code",
   "execution_count": 6,
   "metadata": {},
   "outputs": [],
   "source": [
    "splits = [get_partition(num,return_bool_mask=True) for num in pt_samples]\n",
    "train_bools = [s[0] for s in splits]\n",
    "test_bools = [s[1] for s in splits]\n",
    "train_idxs = np.concatenate(train_bools,axis=0)\n",
    "test_idxs = np.concatenate(test_bools,axis=0)"
   ]
  },
  {
   "cell_type": "code",
   "execution_count": 7,
   "metadata": {},
   "outputs": [
    {
     "data": {
      "text/plain": [
       "6030"
      ]
     },
     "execution_count": 7,
     "metadata": {},
     "output_type": "execute_result"
    }
   ],
   "source": [
    "train_idxs.astype(np.int).sum()"
   ]
  },
  {
   "cell_type": "code",
   "execution_count": 8,
   "metadata": {},
   "outputs": [],
   "source": [
    "mod_params = dict(\n",
    "    layer_spec=[32],\n",
    "    activ='relu',\n",
    "    optim='nadam',\n",
    "    num_labels=3\n",
    ")\n",
    "mod = feedforward(**mod_params)"
   ]
  },
  {
   "cell_type": "code",
   "execution_count": 9,
   "metadata": {},
   "outputs": [
    {
     "name": "stdout",
     "output_type": "stream",
     "text": [
      "_________________________________________________________________\n",
      "Layer (type)                 Output Shape              Param #   \n",
      "=================================================================\n",
      "dense_1 (Dense)              (None, 32)                288       \n",
      "_________________________________________________________________\n",
      "dense_2 (Dense)              (None, 3)                 99        \n",
      "=================================================================\n",
      "Total params: 387\n",
      "Trainable params: 387\n",
      "Non-trainable params: 0\n",
      "_________________________________________________________________\n"
     ]
    }
   ],
   "source": [
    "mod.summary()"
   ]
  },
  {
   "cell_type": "code",
   "execution_count": 10,
   "metadata": {},
   "outputs": [
    {
     "name": "stdout",
     "output_type": "stream",
     "text": [
      "1504/1504 [==============================] - 0s 43us/step\n",
      "[0.38756399252947343, 0.886968085106383]\n"
     ]
    }
   ],
   "source": [
    "X = scaled_X[train_idxs]\n",
    "Y = oh_Y[train_idxs]\n",
    "Y_w = ex_weight[train_idxs]\n",
    "mod.fit(X,Y,\n",
    "        batch_size=128,\n",
    "        epochs=300,\n",
    "        sample_weight=Y_w,\n",
    "        verbose=0)\n",
    "X_test = scaled_X[test_idxs]\n",
    "Y_test = oh_Y[test_idxs]\n",
    "print(mod.evaluate(X_test,Y_test))"
   ]
  },
  {
   "cell_type": "code",
   "execution_count": 11,
   "metadata": {},
   "outputs": [
    {
     "name": "stdout",
     "output_type": "stream",
     "text": [
      "189/189 [==============================] - 0s 37us/step\n",
      "229/229 [==============================] - 0s 36us/step\n",
      "203/203 [==============================] - 0s 51us/step\n",
      "135/135 [==============================] - 0s 63us/step\n",
      "136/136 [==============================] - 0s 61us/step\n",
      "139/139 [==============================] - 0s 58us/step\n",
      "158/158 [==============================] - 0s 48us/step\n",
      "162/162 [==============================] - 0s 60us/step\n",
      "153/153 [==============================] - 0s 46us/step\n"
     ]
    }
   ],
   "source": [
    "acc = [mod.evaluate(scaled_X[m][test_idxs],oh_Y[m][test_idxs]) for m,test_idxs in zip(pt_masks,test_bools)]"
   ]
  },
  {
   "cell_type": "code",
   "execution_count": 12,
   "metadata": {},
   "outputs": [
    {
     "data": {
      "text/plain": [
       "[[0.45487584575774176, 0.8518518553209052],\n",
       " [0.43183417549950587, 0.8908296943231441],\n",
       " [0.30408075026103426, 0.9261083737969986],\n",
       " [0.3572428751874853, 0.911111111552627],\n",
       " [0.34963754345388975, 0.9485294117647058],\n",
       " [0.25657273968346683, 0.9568345323741008],\n",
       " [0.2913411021987094, 0.9113924058177804],\n",
       " [0.6090419403748748, 0.7283950617283951],\n",
       " [0.39325160839978385, 0.8758169946327709]]"
      ]
     },
     "execution_count": 12,
     "metadata": {},
     "output_type": "execute_result"
    }
   ],
   "source": [
    "acc"
   ]
  },
  {
   "cell_type": "code",
   "execution_count": 14,
   "metadata": {},
   "outputs": [
    {
     "data": {
      "text/plain": [
       "(0.3333, 1)"
      ]
     },
     "execution_count": 14,
     "metadata": {},
     "output_type": "execute_result"
    },
    {
     "data": {
      "image/png": "[encoded data removed]",
      "text/plain": [
       "<matplotlib.figure.Figure at 0x7f4a886d9278>"
      ]
     },
     "metadata": {},
     "output_type": "display_data"
    }
   ],
   "source": [
    "plt.scatter(np.zeros(9),np.array(acc)[:,1])\n",
    "plt.ylim(0.3333,1)"
   ]
  },
  {
   "cell_type": "code",
   "execution_count": null,
   "metadata": {},
   "outputs": [],
   "source": []
  }
 ],
 "metadata": {
  "kernelspec": {
   "display_name": "Python 3",
   "language": "python",
   "name": "python3"
  },
  "language_info": {
   "codemirror_mode": {
    "name": "ipython",
    "version": 3
   },
   "file_extension": ".py",
   "mimetype": "text/x-python",
   "name": "python",
   "nbconvert_exporter": "python",
   "pygments_lexer": "ipython3",
   "version": "3.5.2"
  }
 },
 "nbformat": 4,
 "nbformat_minor": 2
}
