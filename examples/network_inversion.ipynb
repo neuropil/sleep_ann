{
 "cells": [
  {
   "cell_type": "code",
   "execution_count": 2,
   "metadata": {},
   "outputs": [
    {
     "name": "stderr",
     "output_type": "stream",
     "text": [
      "/home/elijahc/.pyenv/versions/3.5.2/envs/jupyterlab/lib/python3.5/site-packages/h5py/__init__.py:36: FutureWarning: Conversion of the second argument of issubdtype from `float` to `np.floating` is deprecated. In future, it will be treated as `np.float64 == np.dtype(float).type`.\n",
      "  from ._conv import register_converters as _register_converters\n",
      "Using TensorFlow backend.\n",
      "/home/elijahc/.pyenv/versions/3.5.2/envs/jupyterlab/lib/python3.5/site-packages/statsmodels/compat/pandas.py:56: FutureWarning: The pandas.core.datetools module is deprecated and will be removed in a future version. Please use the pandas.tseries module instead.\n",
      "  from pandas.core import datetools\n"
     ]
    }
   ],
   "source": [
    "import os\n",
    "import numpy as np\n",
    "import pandas as pd\n",
    "import scipy.io as sio\n",
    "import scipy.spatial.distance as distance\n",
    "import matplotlib.pyplot as plt\n",
    "from tqdm import tqdm as tqdm\n",
    "%matplotlib inline\n",
    "import seaborn as sns\n",
    "from keras.models import Model, Sequential\n",
    "from keras.layers import Input, Dense\n",
    "from keras.utils import to_categorical\n",
    "from keras.regularizers import Regularizer\n",
    "\n",
    "import keras.backend as K\n",
    "import keras.regularizers as regularizers\n",
    "from sklearn.preprocessing import StandardScaler,OneHotEncoder\n",
    "\n",
    "import statsmodels.api as sm"
   ]
  },
  {
   "cell_type": "markdown",
   "metadata": {},
   "source": [
    "### \"invert\" network to find optimal inputs\n",
    "- Load model weights\n",
    "- Make weights untrainable\n",
    "- Add \"pseudo\" dense layer of linear activations and constant 0 biases between input and first layer\n",
    "- Train on batches of all 1's so the learned weights are the \"preferred\" inputs\n",
    "- Reverse transform learned weights to get relative frequency power"
   ]
  },
  {
   "cell_type": "code",
   "execution_count": 3,
   "metadata": {},
   "outputs": [],
   "source": [
    "class MahalinobisDistance(Regularizer):\n",
    "    def __init__(self,VI,mu,l=0.01):\n",
    "        self.VI = K.constant(VI)\n",
    "        self.mu = K.constant(mu)\n",
    "        self.l = l\n",
    "    \n",
    "    def __call__(self,weights):\n",
    "        diff = weights-self.mu\n",
    "        distance = K.dot(K.dot(diff,self.VI),K.transpose(diff))\n",
    "        \n",
    "        return K.abs(self.l*K.sum(K.sqrt(distance)))"
   ]
  },
  {
   "cell_type": "code",
   "execution_count": 4,
   "metadata": {},
   "outputs": [],
   "source": [
    "def merge_nrem_state(states):\n",
    "    return np.array([2 if s in [1,2,3] else s for s in states])\n",
    "\n",
    "def merge_data(records,merge_keys=None,simple=False):\n",
    "    merged_data = {}\n",
    "    for k in merge_keys:\n",
    "        merged_data[k] = np.concatenate( [d[k] for d in records] )\n",
    "    if simple:\n",
    "        merged_data['stages_simple'] = merge_nrem_state(merged_data['stages'][:,2])\n",
    "    return merged_data\n",
    "\n",
    "def load_preprocessed(\n",
    "        data_path='/home/elijahc/data/uminn/preprocessed',\n",
    "        merge_keys=None,\n",
    "        simple=False,\n",
    "        file_names=[\n",
    "            'band_pow1.mat',\n",
    "            'band_pow2.mat',\n",
    "            'band_pow3.mat',\n",
    "            'band_pow4.mat',\n",
    "            'band_pow5.mat',\n",
    "            'band_pow6.mat',\n",
    "            'band_pow7.mat',\n",
    "            'band_pow8.mat',\n",
    "            'band_pow9.mat',\n",
    "            # 'band_pow10.mat',\n",
    "            ]):\n",
    "\n",
    "    file_paths = [os.path.join(data_path,fname) for fname in file_names]\n",
    "    all_data = [ sio.loadmat(fp) for fp in file_paths ]\n",
    "    if merge_keys is not None:\n",
    "        return merge_data(all_data,merge_keys,simple)\n",
    "    else:\n",
    "        if simple:\n",
    "            for d in all_data:\n",
    "                d['stages_simple']=merge_nrem_state(d['stages'][:,2])\n",
    "        return all_data\n",
    "\n",
    "def feedforward(layer_spec=[64],num_labels=5,activ='sigmoid',\n",
    "                optim='adam',loss='categorical_crossentropy',\n",
    "                droprate=None,loss_weights=None,reg_weight=0.01):\n",
    "    model = Sequential()\n",
    "    input_shape = (8,)\n",
    "    for i,units in enumerate(layer_spec):\n",
    "        if i == 0:\n",
    "            d_layer = Dense(units,activation=activ,kernel_regularizer=regularizers.l1(reg_weight),input_shape=input_shape)\n",
    "        else:\n",
    "            d_layer = Dense(units,activation=activ,kernel_regularizer=regularizers.l1(reg_weight))\n",
    "        model.add(d_layer)\n",
    "        if droprate is not None:\n",
    "            model.add(Dropout(droprate))\n",
    "\n",
    "    model.add(Dense(num_labels,activation='softmax'))\n",
    "\n",
    "    # sgd = SGD(lr=0.01, decay=1e-6, momentum=0.9, nesterov=True)\n",
    "    model.compile(optimizer=optim,\n",
    "                loss=loss,\n",
    "                loss_weights=loss_weights,\n",
    "                metrics=['categorical_accuracy'])\n",
    "    \n",
    "    return model\n",
    "\n",
    "def invert_model(in_model,input_shape,loss='categorical_crossentropy',cov=None,reg_l=0.01):\n",
    "    reg = None\n",
    "    if cov is not None:\n",
    "        VI = np.linalg.inv(cov)\n",
    "        mu = np.zeros(shape=(1,8))\n",
    "        reg = MahalinobisDistance(VI=VI,mu=mu,l=reg_l)\n",
    "    \n",
    "    pd_input = Input(shape=input_shape)\n",
    "    \n",
    "    pseudo_dense = Dense(8,use_bias=False,kernel_regularizer=reg)(pd_input)\n",
    "\n",
    "    x = in_model.layers[0](pseudo_dense)\n",
    "    output = in_model.layers[1](x)\n",
    "    out_model = Model(inputs=pd_input,outputs=output)\n",
    "    out_model.compile(optimizer='nadam',loss=loss,metrics=['categorical_accuracy'])\n",
    "    return out_model\n",
    "\n",
    "def reset_weights(model,layer_idxs=None):\n",
    "    session = K.get_session()\n",
    "    model_layers = model.layers\n",
    "    num_layers = len(model_layers)\n",
    "    if layer_idxs is not None:\n",
    "        iter_layers = np.array(layer_idxs)\n",
    "    else:\n",
    "        iter_layers = np.arange(num_layers)\n",
    "    for l_idx in iter_layers: \n",
    "        layer = model_layers[l_idx]\n",
    "        if hasattr(layer, 'kernel_initializer'):\n",
    "            layer.kernel.initializer.run(session=session)\n",
    "            \n",
    "def get_inverse_freq_weights(labels,sqrt=False):\n",
    "    label_bct = np.bincount(labels)\n",
    "    label_pct = label_bct/label_bct.sum()\n",
    "    nz = np.nonzero(label_pct)[0].tolist()\n",
    "    sparse_weights = 1/label_pct[np.nonzero(label_pct)]\n",
    "    sample_weights = np.array([ sparse_weights[nz.index(s)] for s in labels ])\n",
    "    if sqrt:\n",
    "        return np.sqrt(sample_weights)\n",
    "    else:\n",
    "        return sample_weights"
   ]
  },
  {
   "cell_type": "code",
   "execution_count": 5,
   "metadata": {},
   "outputs": [
    {
     "data": {
      "text/plain": [
       "array([[1., 0., 0.],\n",
       "       [1., 0., 0.],\n",
       "       [1., 0., 0.],\n",
       "       ...,\n",
       "       [1., 0., 0.],\n",
       "       [1., 0., 0.],\n",
       "       [1., 0., 0.]])"
      ]
     },
     "execution_count": 5,
     "metadata": {},
     "output_type": "execute_result"
    }
   ],
   "source": [
    "dat = load_preprocessed(simple=True,merge_keys=['stages','pows'])\n",
    "all_data = load_preprocessed(simple=True)\n",
    "scaler = StandardScaler()\n",
    "oh_encoder = OneHotEncoder()\n",
    "scaled_X = scaler.fit_transform(dat['pows'])\n",
    "labels = dat['stages_simple']\n",
    "trans_dat = scaled_X\n",
    "oh_Y = oh_encoder.fit_transform(labels.reshape(-1,1)).toarray()\n",
    "ex_weight = get_inverse_freq_weights(dat['stages_simple'],sqrt=True)\n",
    "oh_Y"
   ]
  },
  {
   "cell_type": "code",
   "execution_count": 6,
   "metadata": {},
   "outputs": [],
   "source": [
    "train_idxs = np.load('/home/elijahc/dev/sleep_augur/train_idxs.npy')\n",
    "test_idxs = np.load('/home/elijahc/dev/sleep_augur/test_idxs.npy')\n",
    "groups = [ [i]*len(d['pows']) for i,d in zip(np.arange(len(all_data)),all_data) ]\n",
    "groups = np.concatenate(groups,axis=0)\n"
   ]
  },
  {
   "cell_type": "code",
   "execution_count": 8,
   "metadata": {},
   "outputs": [],
   "source": [
    "np.save('./pt_groups.npy',groups)"
   ]
  },
  {
   "cell_type": "code",
   "execution_count": 6,
   "metadata": {},
   "outputs": [
    {
     "data": {
      "text/plain": [
       "array([1.4384755, 1.4384755, 1.4384755, ..., 1.4384755, 1.4384755,\n",
       "       1.4384755])"
      ]
     },
     "execution_count": 6,
     "metadata": {},
     "output_type": "execute_result"
    }
   ],
   "source": [
    "trans_dat.shape\n",
    "dat_cov = np.cov(trans_dat.T)\n"
   ]
  },
  {
   "cell_type": "code",
   "execution_count": 8,
   "metadata": {},
   "outputs": [
    {
     "name": "stdout",
     "output_type": "stream",
     "text": [
      "_________________________________________________________________\n",
      "Layer (type)                 Output Shape              Param #   \n",
      "=================================================================\n",
      "dense_55 (Dense)             (None, 32)                288       \n",
      "_________________________________________________________________\n",
      "dense_56 (Dense)             (None, 3)                 99        \n",
      "=================================================================\n",
      "Total params: 387\n",
      "Trainable params: 0\n",
      "Non-trainable params: 387\n",
      "_________________________________________________________________\n",
      "None\n"
     ]
    }
   ],
   "source": [
    "mod_params = dict(\n",
    "    layer_spec=[32],\n",
    "    activ='relu',\n",
    "    optim='nadam',\n",
    "    num_labels=3\n",
    ")\n",
    "root_path = '/home/elijahc/dev/sleep_augur/results/2017-09-18'\n",
    "weights = [root_path+\"/pt%d_model.h5\"%i for i in np.arange(9)]\n",
    "null_models = [feedforward(**mod_params) for w in weights]\n",
    "models = [feedforward(**mod_params) for w in weights]\n",
    "# m = feedforward(**mod_params)\n",
    "for m,w in zip(models,weights):\n",
    "    m.load_weights(w)\n",
    "    for l in m.layers:\n",
    "        l.trainable = False\n",
    "    \n",
    "# models = [invert_model(m,input_shape=(8,)) for m in models]        \n",
    "print(models[0].summary())\n",
    "# m =  models[0]"
   ]
  },
  {
   "cell_type": "code",
   "execution_count": 9,
   "metadata": {},
   "outputs": [
    {
     "data": {
      "text/plain": [
       "<tf.Variable 'Variable:0' shape=(1, 8) dtype=float32_ref>"
      ]
     },
     "execution_count": 9,
     "metadata": {},
     "output_type": "execute_result"
    }
   ],
   "source": [
    "K.variable(np.random.rand(1,8))"
   ]
  },
  {
   "cell_type": "code",
   "execution_count": 10,
   "metadata": {},
   "outputs": [
    {
     "name": "stdout",
     "output_type": "stream",
     "text": [
      "2.377971881996197\n",
      "2.377972\n"
     ]
    }
   ],
   "source": [
    "m = invert_model(null_models[0],input_shape=(1,),loss='kullback_leibler_divergence',cov=dat_cov,reg_l=1)\n",
    "# m.layers[1].get_weights()[0].shape\n",
    "test_weight = np.random.rand(1,8)\n",
    "np_mh_dist = distance.mahalanobis(test_weight,np.zeros(shape=(1,8)),VI=np.linalg.inv(dat_cov))\n",
    "print(np_mh_dist)\n",
    "reg_mh_dist = K.get_value(m.layers[1].kernel_regularizer(K.variable(test_weight)))\n",
    "print(reg_mh_dist)"
   ]
  },
  {
   "cell_type": "code",
   "execution_count": 66,
   "metadata": {},
   "outputs": [
    {
     "name": "stdout",
     "output_type": "stream",
     "text": [
      "unweighted\n",
      "947/947 [==============================] - 0s 40us/step\n",
      "7534/7534 [==============================] - 0s 35us/step\n",
      "1149/1149 [==============================] - 0s 36us/step\n",
      "7534/7534 [==============================] - 0s 35us/step\n",
      "1016/1016 [==============================] - 0s 39us/step\n",
      "7534/7534 [==============================] - 0s 28us/step\n",
      "676/676 [==============================] - 0s 27us/step\n",
      "7534/7534 [==============================] - 0s 28us/step\n",
      "680/680 [==============================] - 0s 27us/step\n",
      "7534/7534 [==============================] - 0s 28us/step\n",
      "696/696 [==============================] - 0s 44us/step\n",
      "7534/7534 [==============================] - 0s 25us/step\n",
      "791/791 [==============================] - 0s 28us/step\n",
      "7534/7534 [==============================] - 0s 28us/step\n",
      "812/812 [==============================] - 0s 31us/step\n",
      "7534/7534 [==============================] - 0s 28us/step\n",
      "767/767 [==============================] - 0s 37us/step\n",
      "7534/7534 [==============================] - 0s 34us/step\n",
      "weighted\n",
      "947/947 [==============================] - 0s 34us/step\n",
      "7534/7534 [==============================] - 0s 28us/step\n",
      "1149/1149 [==============================] - 0s 25us/step\n",
      "7534/7534 [==============================] - 0s 25us/step\n",
      "1016/1016 [==============================] - 0s 26us/step\n",
      "7534/7534 [==============================] - 0s 27us/step\n",
      "676/676 [==============================] - 0s 34us/step\n",
      "7534/7534 [==============================] - 0s 28us/step\n",
      "680/680 [==============================] - 0s 29us/step\n",
      "7534/7534 [==============================] - 0s 29us/step\n",
      "696/696 [==============================] - 0s 28us/step\n",
      "7534/7534 [==============================] - 0s 29us/step\n",
      "791/791 [==============================] - 0s 29us/step\n",
      "7534/7534 [==============================] - 0s 28us/step\n",
      "812/812 [==============================] - 0s 24us/step\n",
      "7534/7534 [==============================] - 0s 26us/step\n",
      "767/767 [==============================] - 0s 34us/step\n",
      "7534/7534 [==============================] - 0s 29us/step\n"
     ]
    }
   ],
   "source": [
    "def eval_models(scaled_X,oh_Y,models,test_idxs,train_idxs,weights=None):\n",
    "    weighted = False\n",
    "    full = np.arange(scaled_X.shape[0]).tolist()\n",
    "#     print(full)\n",
    "    if weights is None:\n",
    "            weighted=True\n",
    "            weights = np.array([None]*len(full))\n",
    "            \n",
    "    recs = []\n",
    "    for pt_idx,m in enumerate(models):\n",
    "        test = test_idxs[pt_idx]\n",
    "        train = train_idxs[pt_idx]\n",
    "        \n",
    "        params = [dict(x=scaled_X[subset],y=oh_Y[subset],sample_weight=weights[subset]) for subset in [test,full]]\n",
    "        \n",
    "        results = [m.evaluate(**p) for p in params]\n",
    "        subset = ['test','full']\n",
    "        for set_lab,res in zip(subset,results):\n",
    "            rec = dict(\n",
    "                model_id=pt_idx,\n",
    "                data_set=set_lab,\n",
    "                accuracy=res[1],\n",
    "                loss=res[0],\n",
    "                weighted=weighted,\n",
    "            )\n",
    "            recs.append(rec)\n",
    "    return pd.DataFrame.from_records(recs)\n",
    "\n",
    "print('unweighted')\n",
    "unweighted_df = eval_models(scaled_X,oh_Y,models,test_idxs,train_idxs)\n",
    "print('weighted')\n",
    "weighted_df = eval_models(scaled_X,oh_Y,models,test_idxs,train_idxs,weights=ex_weight)"
   ]
  },
  {
   "cell_type": "code",
   "execution_count": 72,
   "metadata": {},
   "outputs": [
    {
     "data": {
      "text/plain": [
       "<matplotlib.axes._subplots.AxesSubplot at 0x7f4e46f68400>"
      ]
     },
     "execution_count": 72,
     "metadata": {},
     "output_type": "execute_result"
    },
    {
     "data": {
      "image/png": "[encoded data removed]",
      "text/plain": [
       "<matplotlib.figure.Figure at 0x7f4e46f68ac8>"
      ]
     },
     "metadata": {},
     "output_type": "display_data"
    }
   ],
   "source": [
    "sns.set_context('talk')\n",
    "sns.stripplot(x='data_set',y='accuracy',hue='model_id',data=weighted_df,jitter=True,size=8,)"
   ]
  },
  {
   "cell_type": "code",
   "execution_count": 87,
   "metadata": {},
   "outputs": [
    {
     "data": {
      "image/png": "[encoded data removed]",
      "text/plain": [
       "<matplotlib.figure.Figure at 0x7f4e45f909b0>"
      ]
     },
     "metadata": {},
     "output_type": "display_data"
    }
   ],
   "source": [
    "fig,ax = plt.subplots(1,1,figsize=(8,5))\n",
    "sns.stripplot(x='data_set',y='accuracy',hue='model_id',order=['full','test'],data=unweighted_df,jitter=True,size=7.5,ax=ax)\n",
    "\n",
    "fig.savefig('model_generalization.png',dpi=300,)"
   ]
  },
  {
   "cell_type": "code",
   "execution_count": 94,
   "metadata": {},
   "outputs": [
    {
     "data": {
      "text/plain": [
       "array([0, 3, 5, 8])"
      ]
     },
     "execution_count": 94,
     "metadata": {},
     "output_type": "execute_result"
    }
   ],
   "source": [
    "df = weighted_df\n",
    "good_models = df[(df.accuracy>0.8) & (df.data_set=='test')].model_id.values\n",
    "good_models"
   ]
  },
  {
   "cell_type": "code",
   "execution_count": 168,
   "metadata": {},
   "outputs": [],
   "source": [
    "num_train_examples=60000\n",
    "num_trials=3\n",
    "fake_Y = np.ones(shape=(num_train_examples,1))\n",
    "fake_X = np.ones(shape=(num_train_examples,1,))\n",
    "fake_Y_null = np.ones(shape=(num_train_examples,3))*0.33\n",
    "null_optim = np.empty(shape=(num_trials,9,8))\n",
    "inp_optim = np.zeros(shape=(3,9,8))\n",
    "out_vals = [0,2,5]"
   ]
  },
  {
   "cell_type": "code",
   "execution_count": 169,
   "metadata": {},
   "outputs": [
    {
     "name": "stderr",
     "output_type": "stream",
     "text": [
      "\n",
      "  0%|          | 0/9 [00:00<?, ?it/s]\u001b[A\n",
      "Exception in thread Thread-11:\n",
      "Traceback (most recent call last):\n",
      "  File \"/home/elijahc/.pyenv/versions/3.5.2/lib/python3.5/threading.py\", line 914, in _bootstrap_inner\n",
      "    self.run()\n",
      "  File \"/home/elijahc/.pyenv/versions/3.5.2/envs/jupyterlab/lib/python3.5/site-packages/tqdm/_tqdm.py\", line 144, in run\n",
      "    for instance in self.tqdm_cls._instances:\n",
      "  File \"/home/elijahc/.pyenv/versions/3.5.2/lib/python3.5/_weakrefset.py\", line 60, in __iter__\n",
      "    for itemref in self.data:\n",
      "RuntimeError: Set changed size during iteration\n",
      "\n"
     ]
    },
    {
     "name": "stdout",
     "output_type": "stream",
     "text": [
      "[[-0.5131043  -0.33557212 -1.0203786   0.920348    0.98485935  0.30814072\n",
      "   0.48371217 -0.68481535]]\n",
      "[[9.9239445e-01 7.5400500e-03 6.5588887e-05]]\n",
      "[[ 0.2127175  -0.17661692  0.12897448  0.18166602 -0.00804473 -0.04276285\n",
      "   0.466031   -0.36740386]]\n",
      "[[0.01918257 0.97828716 0.0025302 ]]\n"
     ]
    },
    {
     "name": "stderr",
     "output_type": "stream",
     "text": [
      " 11%|█         | 1/9 [00:09<01:15,  9.43s/it]"
     ]
    },
    {
     "name": "stdout",
     "output_type": "stream",
     "text": [
      "[[ 0.34654555  0.58931816 -0.14854956  0.1175735  -0.30367303  1.0665536\n",
      "  -0.29854715  0.979383  ]]\n",
      "[[0.01974326 0.01405003 0.9662067 ]]\n",
      "[[ 0.12967347  0.22536871 -0.9383821  -0.57522905 -0.06660862  0.42831236\n",
      "  -1.0349486   1.1765317 ]]\n",
      "[[9.8461413e-01 7.7057448e-05 1.5308725e-02]]\n",
      "[[ 0.9072941   0.46533656 -0.58431566  0.64759004  0.02656485  0.74122965\n",
      "   0.1900926  -0.10702921]]\n",
      "[[0.00744519 0.97885096 0.0137039 ]]\n"
     ]
    },
    {
     "name": "stderr",
     "output_type": "stream",
     "text": [
      " 22%|██▏       | 2/9 [00:18<01:04,  9.24s/it]"
     ]
    },
    {
     "name": "stdout",
     "output_type": "stream",
     "text": [
      "[[-0.03833599 -0.00270593  0.07937089  0.33861676  0.16296385 -0.4741165\n",
      "   0.7373881   0.36199898]]\n",
      "[[9.7258732e-04 1.0676834e-02 9.8835063e-01]]\n",
      "[[-0.9146675  -0.14213862 -0.06328459  1.1651374  -0.16324171  0.02378317\n",
      "   0.7698014  -0.8450707 ]]\n",
      "[[0.99565756 0.00226845 0.00207402]]\n",
      "[[ 0.47854427  0.6874667   0.6797241   1.4692434  -0.25757223  0.6209405\n",
      "   0.43879077 -0.51722336]]\n",
      "[[0.01975772 0.9734621  0.00678021]]\n"
     ]
    },
    {
     "name": "stderr",
     "output_type": "stream",
     "text": [
      " 33%|███▎      | 3/9 [00:27<00:55,  9.27s/it]"
     ]
    },
    {
     "name": "stdout",
     "output_type": "stream",
     "text": [
      "[[-0.21824975  1.0155131  -1.2233405  -0.44695616  0.2731153   0.3349233\n",
      "  -0.33495006 -0.01295858]]\n",
      "[[0.00182508 0.00664147 0.99153346]]\n",
      "[[-0.5229931  -0.66426176  0.7931909  -0.00818564  0.8821854  -0.5272304\n",
      "  -0.8418792   0.3657394 ]]\n",
      "[[9.8907018e-01 7.2691801e-06 1.0922505e-02]]\n",
      "[[ 0.18061122 -0.43581516  0.7261386   0.71247566  0.5168375  -0.1899269\n",
      "   0.34596777 -0.22627595]]\n",
      "[[0.01121058 0.9847707  0.00401858]]\n"
     ]
    },
    {
     "name": "stderr",
     "output_type": "stream",
     "text": [
      " 44%|████▍     | 4/9 [00:37<00:46,  9.35s/it]"
     ]
    },
    {
     "name": "stdout",
     "output_type": "stream",
     "text": [
      "[[-0.70522326  0.20763841 -0.60309124 -0.06626227 -0.12866256 -0.5400404\n",
      "  -0.20819336  0.14516523]]\n",
      "[[0.03103347 0.00729399 0.96167254]]\n",
      "[[ 0.20187947 -0.5954414   0.16182502 -0.55273503  0.10144116 -0.53128463\n",
      "   0.80940396  0.82609206]]\n",
      "[[9.87949610e-01 1.20478505e-02 2.64113532e-06]]\n",
      "[[ 0.7074718   0.26104662  0.5456274  -0.21197245  0.3090859   0.28433105\n",
      "  -0.1907919  -0.46720466]]\n",
      "[[0.00283636 0.9674529  0.02971072]]\n"
     ]
    },
    {
     "name": "stderr",
     "output_type": "stream",
     "text": [
      " 56%|█████▌    | 5/9 [00:47<00:37,  9.44s/it]"
     ]
    },
    {
     "name": "stdout",
     "output_type": "stream",
     "text": [
      "[[-0.4233691   0.40023848 -1.096486   -0.26764095 -0.4613429   0.4345913\n",
      "   0.08862468  0.05717349]]\n",
      "[[0.03886452 0.01898629 0.94214916]]\n",
      "[[ 0.5869215  -0.619017   -0.3435356  -0.04099418 -0.8041441   0.51912206\n",
      "   0.08486979 -0.15592015]]\n",
      "[[9.9999619e-01 3.6592953e-06 9.4312959e-08]]\n",
      "[[ 0.2240598   0.03274137  0.17231229 -0.3930244  -0.54030865 -0.3698848\n",
      "   0.45621157 -0.7565134 ]]\n",
      "[[3.7267001e-04 9.9960631e-01 2.1128137e-05]]\n"
     ]
    },
    {
     "name": "stderr",
     "output_type": "stream",
     "text": [
      " 67%|██████▋   | 6/9 [00:57<00:28,  9.53s/it]"
     ]
    },
    {
     "name": "stdout",
     "output_type": "stream",
     "text": [
      "[[ 0.75328845  0.7984553  -0.60540545 -0.2299983   0.251332   -0.4583542\n",
      "   0.6760244  -0.77870923]]\n",
      "[[1.07101619e-06 9.99998808e-01 1.17052075e-07]]\n",
      "[[-0.65638965 -0.24307853  0.8472106  -0.26940823 -0.44029358 -0.24466622\n",
      "   0.8842365   0.20392115]]\n",
      "[[0.98686117 0.0048919  0.00824689]]\n",
      "[[ 0.6571727  -0.5694366   0.6648667   0.71766233  0.00846773  0.15527955\n",
      "  -0.19764267 -0.42229247]]\n",
      "[[9.8921144e-03 9.8997784e-01 1.3006869e-04]]\n"
     ]
    },
    {
     "name": "stderr",
     "output_type": "stream",
     "text": [
      " 78%|███████▊  | 7/9 [01:06<00:19,  9.56s/it]"
     ]
    },
    {
     "name": "stdout",
     "output_type": "stream",
     "text": [
      "[[-0.5646438   0.00327955  0.31070462 -0.6176079   0.495185    0.3100338\n",
      "   0.07811743 -0.22335066]]\n",
      "[[0.00509842 0.00387938 0.99102217]]\n",
      "[[ 0.34073135 -0.9598811   1.0373346  -0.8661651   0.875218    0.45452383\n",
      "  -0.2793261   0.0617962 ]]\n",
      "[[9.8287731e-01 1.7122615e-02 6.7083853e-08]]\n",
      "[[ 1.2254857  -0.2151551   1.1693779   0.96068776  0.02502716 -0.13100658\n",
      "   0.19113345 -0.06329512]]\n",
      "[[7.9018000e-04 9.7911650e-01 2.0093316e-02]]\n"
     ]
    },
    {
     "name": "stderr",
     "output_type": "stream",
     "text": [
      " 89%|████████▉ | 8/9 [01:16<00:09,  9.58s/it]"
     ]
    },
    {
     "name": "stdout",
     "output_type": "stream",
     "text": [
      "[[-0.08046631 -0.06949507 -0.45100737 -0.9841094   0.9506317   0.40291166\n",
      "  -0.18955854  0.7078584 ]]\n",
      "[[0.02124905 0.01549485 0.96325606]]\n",
      "[[-0.82871205  0.02939841 -0.27372533  1.0438877  -0.11084366 -0.5036001\n",
      "   0.24571761  0.92107636]]\n",
      "[[0.9745963  0.01172617 0.01367749]]\n",
      "[[ 0.6036212  -0.15489957  0.05744284  0.62715375  0.23056914 -0.43820223\n",
      "  -0.654281   -0.51399344]]\n",
      "[[0.00179043 0.99586403 0.00234551]]\n"
     ]
    },
    {
     "name": "stderr",
     "output_type": "stream",
     "text": [
      "100%|██████████| 9/9 [01:26<00:00,  9.58s/it]"
     ]
    },
    {
     "name": "stdout",
     "output_type": "stream",
     "text": [
      "[[-0.02854495 -0.34897956 -1.0002992   0.2517971  -0.25128564  0.6992445\n",
      "  -0.65144026  0.5661418 ]]\n",
      "[[0.02073741 0.01368566 0.96557695]]\n"
     ]
    },
    {
     "name": "stderr",
     "output_type": "stream",
     "text": [
      "\n"
     ]
    }
   ],
   "source": [
    "# Train null models\n",
    "# zip(np.arange(9),null_models)\n",
    "for i_m in tqdm(np.arange(9)):\n",
    "    mod = models[i_m]\n",
    "    m = invert_model(mod,input_shape=(1,),loss='mean_squared_error')\n",
    "    for i in np.arange(num_trials):\n",
    "        reset_weights(m,layer_idxs=[1])\n",
    "        Y = oh_encoder.transform(fake_Y*out_vals[i]).toarray()\n",
    "        m.fit(x=fake_X,y=Y,batch_size=128,epochs=3,verbose=0)\n",
    "        optim = K.get_value(m.layers[1].weights[0])\n",
    "        inp_optim[i,i_m] = optim\n",
    "        print(optim)\n",
    "        print(models[i_m].predict(x=optim))\n",
    "        "
   ]
  },
  {
   "cell_type": "code",
   "execution_count": 166,
   "metadata": {},
   "outputs": [
    {
     "name": "stderr",
     "output_type": "stream",
     "text": [
      "/home/elijahc/.pyenv/versions/3.5.2/envs/jupyterlab/lib/python3.5/site-packages/ipykernel_launcher.py:2: SettingWithCopyWarning: \n",
      "A value is trying to be set on a copy of a slice from a DataFrame.\n",
      "Try using .loc[row_indexer,col_indexer] = value instead\n",
      "\n",
      "See the caveats in the documentation: http://pandas.pydata.org/pandas-docs/stable/indexing.html#indexing-view-versus-copy\n",
      "  \n"
     ]
    },
    {
     "data": {
      "text/html": [
       "<div>\n",
       "<style scoped>\n",
       "    .dataframe tbody tr th:only-of-type {\n",
       "        vertical-align: middle;\n",
       "    }\n",
       "\n",
       "    .dataframe tbody tr th {\n",
       "        vertical-align: top;\n",
       "    }\n",
       "\n",
       "    .dataframe thead th {\n",
       "        text-align: right;\n",
       "    }\n",
       "</style>\n",
       "<table border=\"1\" class=\"dataframe\">\n",
       "  <thead>\n",
       "    <tr style=\"text-align: right;\">\n",
       "      <th></th>\n",
       "      <th>accuracy</th>\n",
       "      <th>data_set</th>\n",
       "      <th>loss</th>\n",
       "      <th>model_id</th>\n",
       "      <th>weighted</th>\n",
       "      <th>acc_weight</th>\n",
       "    </tr>\n",
       "  </thead>\n",
       "  <tbody>\n",
       "    <tr>\n",
       "      <th>0</th>\n",
       "      <td>0.809926</td>\n",
       "      <td>test</td>\n",
       "      <td>1.337600</td>\n",
       "      <td>0</td>\n",
       "      <td>False</td>\n",
       "      <td>5.261111</td>\n",
       "    </tr>\n",
       "    <tr>\n",
       "      <th>2</th>\n",
       "      <td>0.462141</td>\n",
       "      <td>test</td>\n",
       "      <td>4.647400</td>\n",
       "      <td>1</td>\n",
       "      <td>False</td>\n",
       "      <td>1.859223</td>\n",
       "    </tr>\n",
       "    <tr>\n",
       "      <th>4</th>\n",
       "      <td>0.536417</td>\n",
       "      <td>test</td>\n",
       "      <td>1.436308</td>\n",
       "      <td>2</td>\n",
       "      <td>False</td>\n",
       "      <td>2.157113</td>\n",
       "    </tr>\n",
       "    <tr>\n",
       "      <th>6</th>\n",
       "      <td>0.829882</td>\n",
       "      <td>test</td>\n",
       "      <td>1.464804</td>\n",
       "      <td>3</td>\n",
       "      <td>False</td>\n",
       "      <td>5.878261</td>\n",
       "    </tr>\n",
       "    <tr>\n",
       "      <th>8</th>\n",
       "      <td>0.755882</td>\n",
       "      <td>test</td>\n",
       "      <td>1.227513</td>\n",
       "      <td>4</td>\n",
       "      <td>False</td>\n",
       "      <td>4.096386</td>\n",
       "    </tr>\n",
       "  </tbody>\n",
       "</table>\n",
       "</div>"
      ],
      "text/plain": [
       "   accuracy data_set      loss  model_id  weighted  acc_weight\n",
       "0  0.809926     test  1.337600         0     False    5.261111\n",
       "2  0.462141     test  4.647400         1     False    1.859223\n",
       "4  0.536417     test  1.436308         2     False    2.157113\n",
       "6  0.829882     test  1.464804         3     False    5.878261\n",
       "8  0.755882     test  1.227513         4     False    4.096386"
      ]
     },
     "execution_count": 166,
     "metadata": {},
     "output_type": "execute_result"
    }
   ],
   "source": [
    "test_df = weighted_df[weighted_df.data_set=='test']\n",
    "test_df['acc_weight']=1/(1-test_df.accuracy)\n",
    "test_df.head()"
   ]
  },
  {
   "cell_type": "code",
   "execution_count": 170,
   "metadata": {},
   "outputs": [],
   "source": [
    "np.save('/home/elijahc/projects/lfp/optim_inputs.npy',inp_optim)"
   ]
  },
  {
   "cell_type": "code",
   "execution_count": 190,
   "metadata": {},
   "outputs": [
    {
     "name": "stdout",
     "output_type": "stream",
     "text": [
      "(3, 9)\n"
     ]
    }
   ],
   "source": [
    "w = test_df.acc_weight.values\n",
    "w = np.swapaxes(np.tile(w.reshape(-1,1),3),0,1)\n",
    "print(w.shape)\n",
    "band_weighted_mu = np.empty(shape=(3,8))\n",
    "for b in np.arange(8):\n",
    "    band_weighted_mu[:,b]=np.average(inp_optim[:,:,b],axis=1)\n",
    "\n",
    "# np.average(inp_optim,axis=-1,weights=w).shape"
   ]
  },
  {
   "cell_type": "code",
   "execution_count": 197,
   "metadata": {},
   "outputs": [
    {
     "data": {
      "text/html": [
       "<div>\n",
       "<style scoped>\n",
       "    .dataframe tbody tr th:only-of-type {\n",
       "        vertical-align: middle;\n",
       "    }\n",
       "\n",
       "    .dataframe tbody tr th {\n",
       "        vertical-align: top;\n",
       "    }\n",
       "\n",
       "    .dataframe thead th {\n",
       "        text-align: right;\n",
       "    }\n",
       "</style>\n",
       "<table border=\"1\" class=\"dataframe\">\n",
       "  <thead>\n",
       "    <tr style=\"text-align: right;\">\n",
       "      <th></th>\n",
       "      <th>band</th>\n",
       "      <th>power</th>\n",
       "      <th>stage</th>\n",
       "      <th>z_power</th>\n",
       "    </tr>\n",
       "  </thead>\n",
       "  <tbody>\n",
       "    <tr>\n",
       "      <th>0</th>\n",
       "      <td>delta</td>\n",
       "      <td>9.671155e-07</td>\n",
       "      <td>Wake</td>\n",
       "      <td>-0.241851</td>\n",
       "    </tr>\n",
       "    <tr>\n",
       "      <th>1</th>\n",
       "      <td>delta</td>\n",
       "      <td>3.546730e-06</td>\n",
       "      <td>NREM</td>\n",
       "      <td>0.577442</td>\n",
       "    </tr>\n",
       "    <tr>\n",
       "      <th>2</th>\n",
       "      <td>delta</td>\n",
       "      <td>1.393106e-06</td>\n",
       "      <td>REM</td>\n",
       "      <td>-0.106555</td>\n",
       "    </tr>\n",
       "    <tr>\n",
       "      <th>3</th>\n",
       "      <td>theta</td>\n",
       "      <td>6.563024e-07</td>\n",
       "      <td>Wake</td>\n",
       "      <td>-0.367180</td>\n",
       "    </tr>\n",
       "    <tr>\n",
       "      <th>4</th>\n",
       "      <td>theta</td>\n",
       "      <td>1.659510e-06</td>\n",
       "      <td>NREM</td>\n",
       "      <td>-0.011704</td>\n",
       "    </tr>\n",
       "  </tbody>\n",
       "</table>\n",
       "</div>"
      ],
      "text/plain": [
       "    band         power stage   z_power\n",
       "0  delta  9.671155e-07  Wake -0.241851\n",
       "1  delta  3.546730e-06  NREM  0.577442\n",
       "2  delta  1.393106e-06   REM -0.106555\n",
       "3  theta  6.563024e-07  Wake -0.367180\n",
       "4  theta  1.659510e-06  NREM -0.011704"
      ]
     },
     "execution_count": 197,
     "metadata": {},
     "output_type": "execute_result"
    }
   ],
   "source": [
    "mu_recs = []\n",
    "for i,lab in enumerate(band_label):\n",
    "    for j,stg in enumerate(stages):\n",
    "        mu_recs.append(dict(\n",
    "            stage=stg,\n",
    "            band=lab,\n",
    "            z_power=band_weighted_mu[j,i],\n",
    "            power=scaler.inverse_transform(band_weighted_mu)[j,i]))\n",
    "df_mu = pd.DataFrame.from_records(mu_recs)\n",
    "df_mu.head()"
   ]
  },
  {
   "cell_type": "code",
   "execution_count": 131,
   "metadata": {},
   "outputs": [],
   "source": [
    "band_mean = inp_optim.reshape(3*9,8).mean(axis=0,)\n",
    "band_std = inp_optim.reshape(3*9,8).std(axis=0)"
   ]
  },
  {
   "cell_type": "code",
   "execution_count": 211,
   "metadata": {},
   "outputs": [
    {
     "name": "stderr",
     "output_type": "stream",
     "text": [
      "/home/elijahc/.pyenv/versions/3.5.2/envs/jupyterlab/lib/python3.5/site-packages/ipykernel_launcher.py:28: RuntimeWarning: invalid value encountered in log10\n"
     ]
    },
    {
     "data": {
      "text/html": [
       "<div>\n",
       "<style scoped>\n",
       "    .dataframe tbody tr th:only-of-type {\n",
       "        vertical-align: middle;\n",
       "    }\n",
       "\n",
       "    .dataframe tbody tr th {\n",
       "        vertical-align: top;\n",
       "    }\n",
       "\n",
       "    .dataframe thead th {\n",
       "        text-align: right;\n",
       "    }\n",
       "</style>\n",
       "<table border=\"1\" class=\"dataframe\">\n",
       "  <thead>\n",
       "    <tr style=\"text-align: right;\">\n",
       "      <th></th>\n",
       "      <th>band_label</th>\n",
       "      <th>band_power</th>\n",
       "      <th>model</th>\n",
       "      <th>norm_val</th>\n",
       "      <th>stage</th>\n",
       "      <th>z_score</th>\n",
       "      <th>log10_power</th>\n",
       "    </tr>\n",
       "  </thead>\n",
       "  <tbody>\n",
       "    <tr>\n",
       "      <th>0</th>\n",
       "      <td>delta</td>\n",
       "      <td>1.130519e-07</td>\n",
       "      <td>0</td>\n",
       "      <td>-0.513104</td>\n",
       "      <td>Wake</td>\n",
       "      <td>1.220755</td>\n",
       "      <td>-6.946722</td>\n",
       "    </tr>\n",
       "    <tr>\n",
       "      <th>1</th>\n",
       "      <td>theta</td>\n",
       "      <td>7.455055e-07</td>\n",
       "      <td>0</td>\n",
       "      <td>-0.335572</td>\n",
       "      <td>Wake</td>\n",
       "      <td>1.150051</td>\n",
       "      <td>-6.127549</td>\n",
       "    </tr>\n",
       "    <tr>\n",
       "      <th>2</th>\n",
       "      <td>alpha</td>\n",
       "      <td>-3.153514e-07</td>\n",
       "      <td>0</td>\n",
       "      <td>-1.020379</td>\n",
       "      <td>Wake</td>\n",
       "      <td>1.092290</td>\n",
       "      <td>NaN</td>\n",
       "    </tr>\n",
       "    <tr>\n",
       "      <th>3</th>\n",
       "      <td>beta</td>\n",
       "      <td>1.232792e-06</td>\n",
       "      <td>0</td>\n",
       "      <td>0.920348</td>\n",
       "      <td>Wake</td>\n",
       "      <td>1.584509</td>\n",
       "      <td>-5.909110</td>\n",
       "    </tr>\n",
       "    <tr>\n",
       "      <th>4</th>\n",
       "      <td>gamma_1</td>\n",
       "      <td>1.421488e-06</td>\n",
       "      <td>0</td>\n",
       "      <td>0.984859</td>\n",
       "      <td>Wake</td>\n",
       "      <td>1.199902</td>\n",
       "      <td>-5.847257</td>\n",
       "    </tr>\n",
       "  </tbody>\n",
       "</table>\n",
       "</div>"
      ],
      "text/plain": [
       "  band_label    band_power  model  norm_val stage   z_score  log10_power\n",
       "0      delta  1.130519e-07      0 -0.513104  Wake  1.220755    -6.946722\n",
       "1      theta  7.455055e-07      0 -0.335572  Wake  1.150051    -6.127549\n",
       "2      alpha -3.153514e-07      0 -1.020379  Wake  1.092290          NaN\n",
       "3       beta  1.232792e-06      0  0.920348  Wake  1.584509    -5.909110\n",
       "4    gamma_1  1.421488e-06      0  0.984859  Wake  1.199902    -5.847257"
      ]
     },
     "execution_count": 211,
     "metadata": {},
     "output_type": "execute_result"
    }
   ],
   "source": [
    "recs = []\n",
    "band_label=[\n",
    "    'delta',\n",
    "    'theta',\n",
    "    'alpha',\n",
    "    'beta',\n",
    "    'gamma_1',\n",
    "    'gamma_2',\n",
    "    'gamma_3',\n",
    "    'hi_freq',\n",
    "]\n",
    "\n",
    "stages = ['Wake','NREM','REM']\n",
    "for i in np.arange(3):\n",
    "    for j in np.arange(9):\n",
    "        z_score=np.abs((inp_optim[i,j]-band_mean)/band_std)\n",
    "        for b in np.arange(8):\n",
    "            r = dict(\n",
    "                band_label=band_label[b],\n",
    "                norm_val=inp_optim[i,j,b],\n",
    "                band_power=scaler.inverse_transform(inp_optim[i,j])[b],\n",
    "                model=j,\n",
    "                stage=stages[i],\n",
    "                z_score=z_score[b]\n",
    "            )\n",
    "            recs.append(r)\n",
    "optim_df = pd.DataFrame.from_records(recs)\n",
    "optim_df['log10_power']=np.log10(optim_df.band_power)\n",
    "optim_df.head()"
   ]
  },
  {
   "cell_type": "code",
   "execution_count": 221,
   "metadata": {},
   "outputs": [
    {
     "name": "stdout",
     "output_type": "stream",
     "text": [
      "[0 3 4 5 6 8]\n"
     ]
    }
   ],
   "source": [
    "good_models = test_df[test_df.accuracy>0.70].model_id.values\n"
   ]
  },
  {
   "cell_type": "code",
   "execution_count": 222,
   "metadata": {},
   "outputs": [
    {
     "data": {
      "image/png": "[encoded data removed]",
      "text/plain": [
       "<matplotlib.figure.Figure at 0x7f4e3c8e0320>"
      ]
     },
     "metadata": {},
     "output_type": "display_data"
    }
   ],
   "source": [
    "fig,ax = plt.subplots(1,1,figsize=(12,7))\n",
    "sns.boxplot(x='band_label',y='norm_val',hue='stage',data=optim_df[optim_df.model.isin(good_models)])\n",
    "# plt.yscale('log')\n",
    "fig.savefig('Z_score_optimal_inp.png',dpi=150)"
   ]
  },
  {
   "cell_type": "code",
   "execution_count": 223,
   "metadata": {},
   "outputs": [
    {
     "data": {
      "image/png": "[encoded data removed]",
      "text/plain": [
       "<matplotlib.figure.Figure at 0x7f4e3cbbd5f8>"
      ]
     },
     "metadata": {},
     "output_type": "display_data"
    }
   ],
   "source": [
    "fig,ax = plt.subplots(1,1,figsize=(12,7))\n",
    "sns.boxplot(x='band_label',y='log10_power',hue='stage',data=optim_df[optim_df.model.isin(good_models)],whis=1.5)\n",
    "plt.savefig('band_power_optim_inp.png',dpi=150)\n",
    "# plt.yscale('log')\n",
    "# plt.ylim(10**-10,10**-5)"
   ]
  },
  {
   "cell_type": "code",
   "execution_count": null,
   "metadata": {},
   "outputs": [],
   "source": [
    "fig,axs = plt.subplots(9,1,figsize=(10,35),sharey=True)\n",
    "for i in np.arange(10):\n",
    "    for ax,j in zip(axs,np.arange(9)):\n",
    "        ax.plot(np.arange(8),scaler.inverse_transform(null_optim[i,j]))\n",
    "#         ax.set_yscale('log')"
   ]
  },
  {
   "cell_type": "code",
   "execution_count": 129,
   "metadata": {},
   "outputs": [
    {
     "name": "stdout",
     "output_type": "stream",
     "text": [
      "(4, 8)\n"
     ]
    },
    {
     "data": {
      "image/png": "[encoded data removed]",
      "text/plain": [
       "<matplotlib.figure.Figure at 0x7f4e3ed8c240>"
      ]
     },
     "metadata": {},
     "output_type": "display_data"
    }
   ],
   "source": [
    "sns.set_context('talk')\n",
    "c0 = inp_optim[0]\n",
    "c1 = inp_optim[1]\n",
    "c2 = inp_optim[2]\n",
    "print(c2.shape)\n",
    "band_labels=[\n",
    "    r'$\\delta$',\n",
    "    r'$\\theta$',\n",
    "    r'$\\alpha$',\n",
    "    r'$\\beta$',\n",
    "    '20-30',\n",
    "    '30-90',\n",
    "    '90-200',\n",
    "    '200-350',\n",
    "]\n",
    "\n",
    "stages = ['0','1-4','5']\n",
    "\n",
    "\n",
    "fig,axs = plt.subplots(3,1,figsize=(10,15),sharex=True,sharey=True)\n",
    "for i in np.arange(4):\n",
    "    axs[0].scatter(np.arange(8),c0[i])\n",
    "    axs[1].scatter(np.arange(8),c1[i])\n",
    "    axs[2].scatter(np.arange(8),c2[i])\n",
    "    axs[2].set_xlabel('Band')\n",
    "    axs[2].set_xticklabels(band_labels)\n",
    "    axs[2].set_xticks(np.arange(8))\n",
    "    plt.xticks(rotation=45)\n",
    "    [ax.set_ylabel('Stage '+lab) for ax,lab in zip(axs,stages)]\n",
    "#     [ax.set_yscale('log') for ax in axs]\n",
    "#     [ax.set_ylim(10**-11,10**-3) for ax in axs]"
   ]
  },
  {
   "cell_type": "code",
   "execution_count": null,
   "metadata": {},
   "outputs": [],
   "source": [
    "idxs_stages = [dat['stages_simple']==i for i in [0,2,5]]"
   ]
  },
  {
   "cell_type": "code",
   "execution_count": null,
   "metadata": {},
   "outputs": [],
   "source": [
    "dat['pows'][idxs_stages[2]].shape\n",
    "VI = np.linalg.inv(np.cov(c0))"
   ]
  },
  {
   "cell_type": "code",
   "execution_count": null,
   "metadata": {},
   "outputs": [],
   "source": [
    "mh_dist = []\n",
    "for slc,c in zip(idxs_stages,inp_optim):\n",
    "    src = dat['pows']\n",
    "    vs = [scaler.inverse_transform(c[i]) for i in np.arange(9)]\n",
    "    mhds = [distance.mahalanobis(v,src.mean(axis=0),np.cov(src.T)) for v in vs]\n",
    "    print(mhds)\n",
    "    mh_dist.append(mhds)"
   ]
  },
  {
   "cell_type": "code",
   "execution_count": null,
   "metadata": {},
   "outputs": [],
   "source": [
    "mhds = [distance.mahalanobis(v,c2.mean(axis=0),np.cov(c2.T)) for v in c0]\n",
    "plt.scatter(np.zeros(9),mhds)"
   ]
  },
  {
   "cell_type": "code",
   "execution_count": null,
   "metadata": {},
   "outputs": [],
   "source": [
    "np.cov(s.T).shape"
   ]
  },
  {
   "cell_type": "code",
   "execution_count": null,
   "metadata": {},
   "outputs": [],
   "source": [
    "for i in np.arange(3):\n",
    "    sns.stripplot(np.ones(9)*i,mh_dist[i],jitter=True)\n",
    "    plt.yscale('log')"
   ]
  },
  {
   "cell_type": "code",
   "execution_count": null,
   "metadata": {},
   "outputs": [],
   "source": []
  }
 ],
 "metadata": {
  "kernelspec": {
   "display_name": "Python 3",
   "language": "python",
   "name": "python3"
  },
  "language_info": {
   "codemirror_mode": {
    "name": "ipython",
    "version": 3
   },
   "file_extension": ".py",
   "mimetype": "text/x-python",
   "name": "python",
   "nbconvert_exporter": "python",
   "pygments_lexer": "ipython3",
   "version": "3.5.2"
  }
 },
 "nbformat": 4,
 "nbformat_minor": 2
}
